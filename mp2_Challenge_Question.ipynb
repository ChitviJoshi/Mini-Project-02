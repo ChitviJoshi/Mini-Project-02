{
  "nbformat": 4,
  "nbformat_minor": 0,
  "metadata": {
    "colab": {
      "provenance": [],
      "authorship_tag": "ABX9TyNdqhe4ARFC8coZD30CWjct",
      "include_colab_link": true
    },
    "kernelspec": {
      "name": "python3",
      "display_name": "Python 3"
    },
    "language_info": {
      "name": "python"
    }
  },
  "cells": [
    {
      "cell_type": "markdown",
      "metadata": {
        "id": "view-in-github",
        "colab_type": "text"
      },
      "source": [
        "<a href=\"https://colab.research.google.com/github/ChitviJoshi/Mini-Project-02/blob/main/mp2_Challenge_Question.ipynb\" target=\"_parent\"><img src=\"https://colab.research.google.com/assets/colab-badge.svg\" alt=\"Open In Colab\"/></a>"
      ]
    },
    {
      "cell_type": "code",
      "execution_count": null,
      "metadata": {
        "id": "zLJvImCDlOi5"
      },
      "outputs": [],
      "source": []
    },
    {
      "cell_type": "markdown",
      "source": [
        "###1. Write a python program to sort the list of heterogeneous data.  \n",
        "e.g.  \n",
        "####L = [\"Ram\", 1, \"Shyam\", 2, \"Aman\", 3]\n",
        "#####print(L)\n",
        "#####L.sort()\n",
        "#####print(L)\n",
        "Above code gives error. Correct it."
      ],
      "metadata": {
        "id": "cONeEDvvlToL"
      }
    },
    {
      "cell_type": "code",
      "source": [
        "L=[\"Ram\", 1, \"Shyam\", 2, \"Aman\", 3]\n",
        "print(L)"
      ],
      "metadata": {
        "colab": {
          "base_uri": "https://localhost:8080/"
        },
        "id": "TmcAmsvalb6j",
        "outputId": "bd011c77-2013-4ff5-d9e5-fb85eb145a9a"
      },
      "execution_count": null,
      "outputs": [
        {
          "output_type": "stream",
          "name": "stdout",
          "text": [
            "['Ram', 1, 'Shyam', 2, 'Aman', 3]\n"
          ]
        }
      ]
    },
    {
      "cell_type": "code",
      "source": [
        "L=[\"Ram\", 1, \"Shyam\", 2, \"Aman\", 3]\n",
        "S1=[]\n",
        "S2=[]\n",
        "for i in L:\n",
        "  if type(i)==str:\n",
        "    S1.append(i)\n",
        "  elif type(i)==int:\n",
        "    S2.append(i)\n",
        "print(sorted(S1))\n",
        "print(sorted(S2))"
      ],
      "metadata": {
        "colab": {
          "base_uri": "https://localhost:8080/"
        },
        "id": "BxURBnK8lvco",
        "outputId": "0d3129ee-c2d4-45b7-c3a6-15b328c5cbd9"
      },
      "execution_count": null,
      "outputs": [
        {
          "output_type": "stream",
          "name": "stdout",
          "text": [
            "['Aman', 'Ram', 'Shyam']\n",
            "[1, 2, 3]\n"
          ]
        }
      ]
    }
  ]
}